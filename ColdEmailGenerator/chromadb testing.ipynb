{
 "cells": [
  {
   "cell_type": "code",
   "execution_count": 11,
   "id": "95e711e1-8887-40e0-a7ec-99d6c3250b61",
   "metadata": {},
   "outputs": [],
   "source": [
    "# Setup a vector database using chromadb\n",
    "# Vector database can make semantic searches , tie query to some else variable,\n",
    "# for example : chola bhature to india  "
   ]
  },
  {
   "cell_type": "code",
   "execution_count": 12,
   "id": "6f4c81f6-4ab4-4936-97c4-6feafc3a3244",
   "metadata": {},
   "outputs": [],
   "source": [
    "client.delete_collection(name='my_collection')"
   ]
  },
  {
   "cell_type": "code",
   "execution_count": 13,
   "id": "f61da405-895e-42fe-a11b-51f9016001fb",
   "metadata": {},
   "outputs": [],
   "source": [
    "import chromadb\n",
    "\n",
    "client = chromadb.Client()\n",
    "collection = client.create_collection(name = \"my_collection\")\n",
    "\n",
    "collection.add(documents = [\n",
    "    'this document is about newyork',\n",
    "    'this document is about india'\n",
    "    ],\n",
    "    ids = ['id1' , 'id2']\n",
    ")"
   ]
  },
  {
   "cell_type": "code",
   "execution_count": 14,
   "id": "6dc2c2f0-64a2-41cc-a800-5448d2ce504e",
   "metadata": {},
   "outputs": [
    {
     "data": {
      "text/plain": [
       "{'ids': ['id1', 'id2'],\n",
       " 'embeddings': None,\n",
       " 'documents': ['this document is about newyork',\n",
       "  'this document is about india'],\n",
       " 'uris': None,\n",
       " 'data': None,\n",
       " 'metadatas': [None, None],\n",
       " 'included': [<IncludeEnum.documents: 'documents'>,\n",
       "  <IncludeEnum.metadatas: 'metadatas'>]}"
      ]
     },
     "execution_count": 14,
     "metadata": {},
     "output_type": "execute_result"
    }
   ],
   "source": [
    "all_docs = collection.get()\n",
    "all_docs"
   ]
  },
  {
   "cell_type": "code",
   "execution_count": null,
   "id": "e4bdb7bd-f148-441e-b977-6138e6ac7b8b",
   "metadata": {},
   "outputs": [],
   "source": []
  },
  {
   "cell_type": "code",
   "execution_count": 15,
   "id": "72e73b82-8d0e-4785-b990-ae8a9b05a6d5",
   "metadata": {},
   "outputs": [
    {
     "data": {
      "text/plain": [
       "{'ids': ['id1'],\n",
       " 'embeddings': None,\n",
       " 'documents': ['this document is about newyork'],\n",
       " 'uris': None,\n",
       " 'data': None,\n",
       " 'metadatas': [None],\n",
       " 'included': [<IncludeEnum.documents: 'documents'>,\n",
       "  <IncludeEnum.metadatas: 'metadatas'>]}"
      ]
     },
     "execution_count": 15,
     "metadata": {},
     "output_type": "execute_result"
    }
   ],
   "source": [
    "documents = collection.get(ids = ['id1'])\n",
    "documents"
   ]
  },
  {
   "cell_type": "code",
   "execution_count": 16,
   "id": "367a4389-8377-4fb8-aac0-1c4b1530ec2c",
   "metadata": {},
   "outputs": [
    {
     "data": {
      "text/plain": [
       "{'ids': [['id2', 'id1']],\n",
       " 'embeddings': None,\n",
       " 'documents': [['this document is about india',\n",
       "   'this document is about newyork']],\n",
       " 'uris': None,\n",
       " 'data': None,\n",
       " 'metadatas': [[None, None]],\n",
       " 'distances': [[1.3628648519515991, 1.733090877532959]],\n",
       " 'included': [<IncludeEnum.distances: 'distances'>,\n",
       "  <IncludeEnum.documents: 'documents'>,\n",
       "  <IncludeEnum.metadatas: 'metadatas'>]}"
      ]
     },
     "execution_count": 16,
     "metadata": {},
     "output_type": "execute_result"
    }
   ],
   "source": [
    "results=collection.query(\n",
    "    query_texts=['query is about the chole bhatura'],\n",
    "    n_results = 2\n",
    ") \n",
    "\n",
    "results"
   ]
  },
  {
   "cell_type": "code",
   "execution_count": 18,
   "id": "40df52d7-9bb6-467d-83a2-78e857121fc2",
   "metadata": {},
   "outputs": [
    {
     "data": {
      "text/plain": [
       "{'ids': [['id2', 'id1']],\n",
       " 'embeddings': None,\n",
       " 'documents': [['this document is about india',\n",
       "   'this document is about newyork']],\n",
       " 'uris': None,\n",
       " 'data': None,\n",
       " 'metadatas': [[None, None]],\n",
       " 'distances': [[1.425057291984558, 1.5195369720458984]],\n",
       " 'included': [<IncludeEnum.distances: 'distances'>,\n",
       "  <IncludeEnum.documents: 'documents'>,\n",
       "  <IncludeEnum.metadatas: 'metadatas'>]}"
      ]
     },
     "execution_count": 18,
     "metadata": {},
     "output_type": "execute_result"
    }
   ],
   "source": [
    "results = collection.query(\n",
    "    query_texts=['query is about the rape'],\n",
    "    n_results = 2\n",
    ") \n",
    "results"
   ]
  },
  {
   "cell_type": "code",
   "execution_count": null,
   "id": "e6221ac1-1b23-4e82-8059-a394db1162b7",
   "metadata": {},
   "outputs": [],
   "source": [
    "collection.delete(ids = all_docs['ids'])\n",
    "collection.get()"
   ]
  }
 ],
 "metadata": {
  "kernelspec": {
   "display_name": "Python llm_project",
   "language": "python",
   "name": "llm_project"
  },
  "language_info": {
   "codemirror_mode": {
    "name": "ipython",
    "version": 3
   },
   "file_extension": ".py",
   "mimetype": "text/x-python",
   "name": "python",
   "nbconvert_exporter": "python",
   "pygments_lexer": "ipython3",
   "version": "3.12.4"
  }
 },
 "nbformat": 4,
 "nbformat_minor": 5
}
