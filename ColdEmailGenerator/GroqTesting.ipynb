{
 "cells": [
  {
   "cell_type": "code",
   "execution_count": 13,
   "id": "2522c99d-b4bb-4ce2-bc03-596ce3e30501",
   "metadata": {},
   "outputs": [],
   "source": [
    "from langchain_groq import ChatGroq"
   ]
  },
  {
   "cell_type": "code",
   "execution_count": 14,
   "id": "2302b616-e7da-48b1-b0d8-52c0e58ddbb3",
   "metadata": {},
   "outputs": [],
   "source": [
    "llm = ChatGroq(\n",
    "    model = \"llama-3.1-70b-versatile\",\n",
    "    temperature = 0,\n",
    "    max_tokens= None,\n",
    "    timeout= None,\n",
    "    max_retries= 2,\n",
    "    groq_api_key = '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'\n",
    ")"
   ]
  },
  {
   "cell_type": "code",
   "execution_count": 15,
   "id": "2e3536cf-186f-4807-80af-a8191347889c",
   "metadata": {},
   "outputs": [
    {
     "name": "stdout",
     "output_type": "stream",
     "text": [
      "The first person to land on the Moon was Neil Armstrong. He stepped out of the lunar module Eagle and onto the Moon's surface on July 20, 1969, as part of the Apollo 11 mission. Armstrong famously declared, \"That's one small step for man, one giant leap for mankind,\" as he became the first human to set foot on the Moon.\n"
     ]
    }
   ],
   "source": [
    "response = llm.invoke(\"first person to land on moon ?\")\n",
    "print(response.content)"
   ]
  },
  {
   "cell_type": "raw",
   "id": "0eef7b79-a03f-40b8-96c8-85713ecd3fa0",
   "metadata": {},
   "source": [
    "So now a new concepts has arised which is webscraping . Suppose there is a job posting and we want to extract data for that job posting from \n",
    "the web of that company we do \"web scraping\"\n",
    "\n"
   ]
  },
  {
   "cell_type": "code",
   "execution_count": 16,
   "id": "0ab6215c-083d-415e-abaf-018a3a4eae79",
   "metadata": {},
   "outputs": [
    {
     "name": "stdout",
     "output_type": "stream",
     "text": [
      "Apply for Retail Associate I\n",
      "\n",
      "Search JobsSkip navigationSearch JobsNIKE, INC. JOBSContract JobsJoin The Talent CommunityLife @ NikeOverviewBenefitsBrandsOverviewJordanConverseTeamsOverviewAdministrative SupportAdvanced InnovationAir Manufacturing InnovationAviationCommunicationsCustomer ServiceDesignDigitalFacilitiesFinance & AccountingGovernment & Public AffairsHuman ResourcesInsights & AnalyticsLegalManufacturing & EngineeringMarketingMerchandisingPlanningPrivacyProcurementProduct Creation, Development & ManagementRetail CorporateRetail StoresSalesSocial & Community ImpactSports MarketingStrategic PlanningSupply Chain, Distribution & LogisticsSustainabilityTechnologyLocationsOverviewNike WHQNike New York HQEHQ: Hilversum, The NetherlandsELC: Laakdal, BelgiumGreater China HQDiversity, Equity & InclusionOverviewMilitary InclusionDisability InclusionIndigenous InclusionInternshipsRetail StoresRetail Associate IGuangzhou, GuangdongBecome a Part of the NIKE, Inc. TeamNIKE, Inc. does more than outfit the world’s best athletes. It is a place to explore potential, obliterate boundaries and push out the edges of what can be. The company looks for people who can grow, think, dream and create. Its culture thrives by embracing diversity and rewarding imagination. The brand seeks achievers, leaders and visionaries. At NIKE, Inc. it’s about each person bringing skills and passion to a challenging and constantly evolving game.To work in retail is to be the face of NIKE, Inc. With a relentless focus on product knowledge and customer service, Nike Retail teams give valuable experiences to consumers every day. From Shanghai to San Francisco, every store has a unique perspective and hosts an inspiring community of sport and style devotees. A career in Nike Retail demands creativity and ambition and offers the opportunity to grow with some of the best athletes, teammates and retail partners in the industry.NIKE, Inc. is a growth company that looks for team members to grow with it. Nike offers a generous total rewards package, casual work environment, a diverse and inclusive culture, and an electric atmosphere for professional development. No matter the location, or the role, every Nike employee shares one galvanizing mission: To bring inspiration and innovation to every athlete* in the world.NIKE, Inc. is committed to employing a diverse workforce. Qualified applicants will receive consideration without regard to race, color, religion, sex, national origin, age, sexual orientation, gender identity, gender expression, veteran status, or disability.How We HireAt NIKE, Inc. we promise to provide a premium, inclusive, compelling and authentic candidate experience. Delivering on this promise means we allow you to be at your best — and to do that, you need to understand how the hiring process works. Transparency is key.\n",
      "\n",
      "* This overview explains our hiring process for corporate roles. Note there may be different hiring steps involved for non-corporate roles.Start nowBenefitsWhether it’s transportation or financial health, we continually invest in our employees to help them achieve greatness — inside and outside of work. All who work here should be able to realize their full potential.Employee Assistance ProgramHolidaysMedical PlanPaid Time Off (PTO)Product DiscountsLearn moreGIFT CARDSPROMOTIONSFIND A STORESIGN UP FOR EMAILBECOME A MEMBERNIKE JOURNALSEND US FEEDBACKGET HELPGET HELPOrder StatusShipping and DeliveryReturnsPayment OptionsGift Cards BalanceContact UsABOUT NIKEABOUT NIKENewsCareersInvestorsPurposeSustainabilityUnited States© 2024 Nike, Inc. All Rights ReservedGuidesNike AdaptNike Air MaxNike FlyleatherNike ReactSpace HippieNike AirNike FlyEaseNike Free Nike VaporflyNike Air Force 1 Nike FlyknitNike JoyrideNike ZoomXTerms of SaleTerms of UseNike Privacy PolicyYour Privacy ChoicesCA Supply Chain Act\n"
     ]
    }
   ],
   "source": [
    "from langchain_community.document_loaders import WebBaseLoader\n",
    "\n",
    "loader = WebBaseLoader(\"https://jobs.nike.com/job/R-45852?from=job%20search%20funnel\")\n",
    "page_data = loader.load().pop().page_content\n",
    "print(content)"
   ]
  },
  {
   "cell_type": "code",
   "execution_count": 17,
   "id": "592db022-983c-4a06-8537-2b14e72ebc95",
   "metadata": {},
   "outputs": [
    {
     "name": "stdout",
     "output_type": "stream",
     "text": [
      "```json\n",
      "{\n",
      "  \"role\": \"Director, Supply Chain AI/ML Engineering\",\n",
      "  \"experience\": \"10+ years of experience across multiple roles in developing productionized code in software or data engineering, machine learning or a related field\",\n",
      "  \"skills\": [\n",
      "    \"Machine learning\",\n",
      "    \"Artificial intelligence\",\n",
      "    \"Data science\",\n",
      "    \"Software engineering\",\n",
      "    \"ETL\",\n",
      "    \"ML\",\n",
      "    \"Analytics technologies such as Scikit-learn, Dask, Tensorflow, Kubeflow, Spark, EMR\",\n",
      "    \"Agile frameworks\",\n",
      "    \"Cloud computing stacks\",\n",
      "    \"MLOps\",\n",
      "    \"Code management workflows\",\n",
      "    \"Infrastructure as code\"\n",
      "  ],\n",
      "  \"description\": \"Nike is looking for a seasoned Engineering leader who can lead and grow teams of machine learning engineers, data scientists, and software architects to deliver scalable machine learning and artificial intelligence solutions to customers across our business.\"\n",
      "}\n",
      "```\n"
     ]
    }
   ],
   "source": [
    "from langchain_core.prompts import PromptTemplate\n",
    "# so the major data from the webscaped data has been formateed here\n",
    "\n",
    "prompt_extract = PromptTemplate.from_template(\n",
    "    \"\"\"\n",
    "    ### SCRAPED TEXT FROM WEBSITE:\n",
    "    {page_data}\n",
    "    ### INSTRUCTION:\n",
    "    the scraped text is from career's page of a website\n",
    "    your job is to extract the job postings and return then in JSON format containing the\n",
    "    following keys: 'role' , 'experience' ,'skills' and 'description'.\n",
    "    Only return the valid JSON\n",
    "    ### VALID JSON (NO PREAMBLE):\n",
    "    \"\"\"\n",
    ")\n",
    "\n",
    "chain_extract = prompt_extract | llm\n",
    "res = chain_extract.invoke(input= {'page_data':page_data})\n",
    "print(res.content)"
   ]
  },
  {
   "cell_type": "code",
   "execution_count": 20,
   "id": "d51166c4-6e84-40d3-b98b-ed9724f2c5d1",
   "metadata": {},
   "outputs": [
    {
     "data": {
      "text/plain": [
       "{'role': 'Director, Supply Chain AI/ML Engineering',\n",
       " 'experience': '10+ years of experience across multiple roles in developing productionized code in software or data engineering, machine learning or a related field',\n",
       " 'skills': ['Machine learning',\n",
       "  'Artificial intelligence',\n",
       "  'Data science',\n",
       "  'Software engineering',\n",
       "  'ETL',\n",
       "  'ML',\n",
       "  'Analytics technologies such as Scikit-learn, Dask, Tensorflow, Kubeflow, Spark, EMR',\n",
       "  'Agile frameworks',\n",
       "  'Cloud computing stacks',\n",
       "  'MLOps',\n",
       "  'Code management workflows',\n",
       "  'Infrastructure as code'],\n",
       " 'description': 'Nike is looking for a seasoned Engineering leader who can lead and grow teams of machine learning engineers, data scientists, and software architects to deliver scalable machine learning and artificial intelligence solutions to customers across our business.'}"
      ]
     },
     "execution_count": 20,
     "metadata": {},
     "output_type": "execute_result"
    }
   ],
   "source": [
    "type(res.content)\n",
    "\n",
    "# convert this text to a json parser \n",
    "\n",
    "from langchain_core.output_parsers import JsonOutputParser\n",
    "json_parser = JsonOutputParser()\n",
    "json_res = json_parser.parse(res.content)\n",
    "json_res"
   ]
  },
  {
   "cell_type": "code",
   "execution_count": 21,
   "id": "533ff44d-9728-4583-a634-25214b109d5e",
   "metadata": {},
   "outputs": [
    {
     "data": {
      "text/html": [
       "<div>\n",
       "<style scoped>\n",
       "    .dataframe tbody tr th:only-of-type {\n",
       "        vertical-align: middle;\n",
       "    }\n",
       "\n",
       "    .dataframe tbody tr th {\n",
       "        vertical-align: top;\n",
       "    }\n",
       "\n",
       "    .dataframe thead th {\n",
       "        text-align: right;\n",
       "    }\n",
       "</style>\n",
       "<table border=\"1\" class=\"dataframe\">\n",
       "  <thead>\n",
       "    <tr style=\"text-align: right;\">\n",
       "      <th></th>\n",
       "      <th>Techstack</th>\n",
       "      <th>Links</th>\n",
       "    </tr>\n",
       "  </thead>\n",
       "  <tbody>\n",
       "    <tr>\n",
       "      <th>0</th>\n",
       "      <td>React, Node.js, MongoDB</td>\n",
       "      <td>https://example.com/react-portfolio</td>\n",
       "    </tr>\n",
       "    <tr>\n",
       "      <th>1</th>\n",
       "      <td>Angular,.NET, SQL Server</td>\n",
       "      <td>https://example.com/angular-portfolio</td>\n",
       "    </tr>\n",
       "    <tr>\n",
       "      <th>2</th>\n",
       "      <td>Vue.js, Ruby on Rails, PostgreSQL</td>\n",
       "      <td>https://example.com/vue-portfolio</td>\n",
       "    </tr>\n",
       "    <tr>\n",
       "      <th>3</th>\n",
       "      <td>Python, Django, MySQL</td>\n",
       "      <td>https://example.com/python-portfolio</td>\n",
       "    </tr>\n",
       "    <tr>\n",
       "      <th>4</th>\n",
       "      <td>Java, Spring Boot, Oracle</td>\n",
       "      <td>https://example.com/java-portfolio</td>\n",
       "    </tr>\n",
       "    <tr>\n",
       "      <th>5</th>\n",
       "      <td>Flutter, Firebase, GraphQL</td>\n",
       "      <td>https://example.com/flutter-portfolio</td>\n",
       "    </tr>\n",
       "    <tr>\n",
       "      <th>6</th>\n",
       "      <td>WordPress, PHP, MySQL</td>\n",
       "      <td>https://example.com/wordpress-portfolio</td>\n",
       "    </tr>\n",
       "    <tr>\n",
       "      <th>7</th>\n",
       "      <td>Magento, PHP, MySQL</td>\n",
       "      <td>https://example.com/magento-portfolio</td>\n",
       "    </tr>\n",
       "    <tr>\n",
       "      <th>8</th>\n",
       "      <td>React Native, Node.js, MongoDB</td>\n",
       "      <td>https://example.com/react-native-portfolio</td>\n",
       "    </tr>\n",
       "    <tr>\n",
       "      <th>9</th>\n",
       "      <td>iOS, Swift, Core Data</td>\n",
       "      <td>https://example.com/ios-portfolio</td>\n",
       "    </tr>\n",
       "    <tr>\n",
       "      <th>10</th>\n",
       "      <td>Android, Java, Room Persistence</td>\n",
       "      <td>https://example.com/android-portfolio</td>\n",
       "    </tr>\n",
       "    <tr>\n",
       "      <th>11</th>\n",
       "      <td>Kotlin, Android, Firebase</td>\n",
       "      <td>https://example.com/kotlin-android-portfolio</td>\n",
       "    </tr>\n",
       "    <tr>\n",
       "      <th>12</th>\n",
       "      <td>Android TV, Kotlin, Android NDK</td>\n",
       "      <td>https://example.com/android-tv-portfolio</td>\n",
       "    </tr>\n",
       "    <tr>\n",
       "      <th>13</th>\n",
       "      <td>iOS, Swift, ARKit</td>\n",
       "      <td>https://example.com/ios-ar-portfolio</td>\n",
       "    </tr>\n",
       "    <tr>\n",
       "      <th>14</th>\n",
       "      <td>Cross-platform, Xamarin, Azure</td>\n",
       "      <td>https://example.com/xamarin-portfolio</td>\n",
       "    </tr>\n",
       "    <tr>\n",
       "      <th>15</th>\n",
       "      <td>Backend, Kotlin, Spring Boot</td>\n",
       "      <td>https://example.com/kotlin-backend-portfolio</td>\n",
       "    </tr>\n",
       "    <tr>\n",
       "      <th>16</th>\n",
       "      <td>Frontend, TypeScript, Angular</td>\n",
       "      <td>https://example.com/typescript-frontend-portfolio</td>\n",
       "    </tr>\n",
       "    <tr>\n",
       "      <th>17</th>\n",
       "      <td>Full-stack, JavaScript, Express.js</td>\n",
       "      <td>https://example.com/full-stack-js-portfolio</td>\n",
       "    </tr>\n",
       "    <tr>\n",
       "      <th>18</th>\n",
       "      <td>Machine Learning, Python, TensorFlow</td>\n",
       "      <td>https://example.com/ml-python-portfolio</td>\n",
       "    </tr>\n",
       "    <tr>\n",
       "      <th>19</th>\n",
       "      <td>DevOps, Jenkins, Docker</td>\n",
       "      <td>https://example.com/devops-portfolio</td>\n",
       "    </tr>\n",
       "  </tbody>\n",
       "</table>\n",
       "</div>"
      ],
      "text/plain": [
       "                               Techstack  \\\n",
       "0                React, Node.js, MongoDB   \n",
       "1               Angular,.NET, SQL Server   \n",
       "2      Vue.js, Ruby on Rails, PostgreSQL   \n",
       "3                  Python, Django, MySQL   \n",
       "4              Java, Spring Boot, Oracle   \n",
       "5             Flutter, Firebase, GraphQL   \n",
       "6                  WordPress, PHP, MySQL   \n",
       "7                    Magento, PHP, MySQL   \n",
       "8         React Native, Node.js, MongoDB   \n",
       "9                  iOS, Swift, Core Data   \n",
       "10       Android, Java, Room Persistence   \n",
       "11             Kotlin, Android, Firebase   \n",
       "12       Android TV, Kotlin, Android NDK   \n",
       "13                     iOS, Swift, ARKit   \n",
       "14        Cross-platform, Xamarin, Azure   \n",
       "15          Backend, Kotlin, Spring Boot   \n",
       "16         Frontend, TypeScript, Angular   \n",
       "17    Full-stack, JavaScript, Express.js   \n",
       "18  Machine Learning, Python, TensorFlow   \n",
       "19               DevOps, Jenkins, Docker   \n",
       "\n",
       "                                                Links  \n",
       "0                 https://example.com/react-portfolio  \n",
       "1               https://example.com/angular-portfolio  \n",
       "2                   https://example.com/vue-portfolio  \n",
       "3                https://example.com/python-portfolio  \n",
       "4                  https://example.com/java-portfolio  \n",
       "5               https://example.com/flutter-portfolio  \n",
       "6             https://example.com/wordpress-portfolio  \n",
       "7               https://example.com/magento-portfolio  \n",
       "8          https://example.com/react-native-portfolio  \n",
       "9                   https://example.com/ios-portfolio  \n",
       "10              https://example.com/android-portfolio  \n",
       "11       https://example.com/kotlin-android-portfolio  \n",
       "12           https://example.com/android-tv-portfolio  \n",
       "13               https://example.com/ios-ar-portfolio  \n",
       "14              https://example.com/xamarin-portfolio  \n",
       "15       https://example.com/kotlin-backend-portfolio  \n",
       "16  https://example.com/typescript-frontend-portfolio  \n",
       "17        https://example.com/full-stack-js-portfolio  \n",
       "18            https://example.com/ml-python-portfolio  \n",
       "19               https://example.com/devops-portfolio  "
      ]
     },
     "execution_count": 21,
     "metadata": {},
     "output_type": "execute_result"
    }
   ],
   "source": [
    "import pandas as pd\n",
    "\n",
    "df = pd.read_csv('my_portfolio.csv')\n",
    "df"
   ]
  },
  {
   "cell_type": "code",
   "execution_count": 26,
   "id": "272275c2-1ca0-41bc-a287-060e06c2b1d4",
   "metadata": {},
   "outputs": [],
   "source": [
    "import chromadb\n",
    "import uuid\n",
    "\n",
    "client = chromadb.PersistentClient('vectorstore')\n",
    "collection = client.get_or_create_collection(name = 'portfolio')\n",
    "\n",
    "if not collection.count():\n",
    "    for _, row in df.iterrows():\n",
    "        collection.add(documents = row['Techstack'],\n",
    "                      metadatas = {'links':row[\"Links\"]},\n",
    "                      ids=[str(uuid.uuid4())])"
   ]
  },
  {
   "cell_type": "code",
   "execution_count": 43,
   "id": "bf7cb4f5-6ad6-43f3-ac22-de7552b81030",
   "metadata": {},
   "outputs": [
    {
     "data": {
      "text/plain": [
       "[[{'links': 'https://example.com/ml-python-portfolio'},\n",
       "  {'links': 'https://example.com/python-portfolio'}],\n",
       " [{'links': 'https://example.com/react-native-portfolio'},\n",
       "  {'links': 'https://example.com/react-portfolio'}]]"
      ]
     },
     "execution_count": 43,
     "metadata": {},
     "output_type": "execute_result"
    }
   ],
   "source": [
    "# Perform the query and Extract metadata\n",
    "links = collection.query(\n",
    "    query_texts=[\"Experience in python\", \"Expertise in React Native\"],\n",
    "    n_results=2\n",
    ").get('metadatas') if result else None\n",
    "# Print the metadata\n",
    "links"
   ]
  },
  {
   "cell_type": "code",
   "execution_count": 39,
   "id": "45c2b2a7-e9c3-4880-8d5f-d90174a4dece",
   "metadata": {},
   "outputs": [
    {
     "data": {
      "text/plain": [
       "['Machine learning',\n",
       " 'Artificial intelligence',\n",
       " 'Data science',\n",
       " 'Software engineering',\n",
       " 'ETL',\n",
       " 'ML',\n",
       " 'Analytics technologies such as Scikit-learn, Dask, Tensorflow, Kubeflow, Spark, EMR',\n",
       " 'Agile frameworks',\n",
       " 'Cloud computing stacks',\n",
       " 'MLOps',\n",
       " 'Code management workflows',\n",
       " 'Infrastructure as code']"
      ]
     },
     "execution_count": 39,
     "metadata": {},
     "output_type": "execute_result"
    }
   ],
   "source": [
    "job = json_res\n",
    "job['skills']"
   ]
  },
  {
   "cell_type": "code",
   "execution_count": 44,
   "id": "c14d93b8-b8b2-4b6a-b452-39420e771f90",
   "metadata": {},
   "outputs": [
    {
     "name": "stdout",
     "output_type": "stream",
     "text": [
      "[[{'links': 'https://example.com/ml-python-portfolio'}, {'links': 'https://example.com/wordpress-portfolio'}], [{'links': 'https://example.com/ml-python-portfolio'}, {'links': 'https://example.com/magento-portfolio'}], [{'links': 'https://example.com/ml-python-portfolio'}, {'links': 'https://example.com/magento-portfolio'}], [{'links': 'https://example.com/ml-python-portfolio'}, {'links': 'https://example.com/java-portfolio'}], [{'links': 'https://example.com/ml-python-portfolio'}, {'links': 'https://example.com/android-tv-portfolio'}], [{'links': 'https://example.com/ml-python-portfolio'}, {'links': 'https://example.com/magento-portfolio'}], [{'links': 'https://example.com/ml-python-portfolio'}, {'links': 'https://example.com/ios-ar-portfolio'}], [{'links': 'https://example.com/ios-ar-portfolio'}, {'links': 'https://example.com/devops-portfolio'}], [{'links': 'https://example.com/xamarin-portfolio'}, {'links': 'https://example.com/full-stack-js-portfolio'}], [{'links': 'https://example.com/devops-portfolio'}, {'links': 'https://example.com/ml-python-portfolio'}], [{'links': 'https://example.com/magento-portfolio'}, {'links': 'https://example.com/ml-python-portfolio'}], [{'links': 'https://example.com/devops-portfolio'}, {'links': 'https://example.com/full-stack-js-portfolio'}]]\n"
     ]
    }
   ],
   "source": [
    "# Perform the query and Extract metadata\n",
    "links = collection.query(\n",
    "    query_texts=job['skills'],\n",
    "    n_results=2\n",
    ").get('metadatas') if result else None\n",
    "# Print the metadata\n",
    "print(links)"
   ]
  },
  {
   "cell_type": "raw",
   "id": "50fa7bb1-d7f3-406e-b196-1fc39145e719",
   "metadata": {},
   "source": [
    "So when we passed links here in the prompt we got the suitable results from the metadata"
   ]
  },
  {
   "cell_type": "code",
   "execution_count": null,
   "id": "d79a4850-bbc1-46ba-98b0-18b7c1171529",
   "metadata": {},
   "outputs": [],
   "source": [
    "# First we creating a prompt template for extracting data \n",
    "# now we create another prompt template to create a email"
   ]
  },
  {
   "cell_type": "code",
   "execution_count": 49,
   "id": "7db8e94f-cf11-4b47-8a41-92191ab0b40e",
   "metadata": {},
   "outputs": [
    {
     "name": "stdout",
     "output_type": "stream",
     "text": [
      "Subject: Unlock Seamless Business Process Integration with NextSolution\n",
      "\n",
      "Dear [Client],\n",
      "\n",
      "I hope this email finds you well. As a Business Development Executive at NextSolution Inc., I am excited to introduce our organization and explore potential collaboration opportunities that can drive your business forward.\n",
      "\n",
      "At NextSolution, we specialize in providing AI and software consulting services that enable seamless integration of business processes through automated tools. Our expertise lies in empowering enterprises with tailored solutions that foster scalability, process optimization, cost reduction, and heightened overall efficiency.\n",
      "\n",
      "Our portfolio showcases a wide range of successful projects, including:\n",
      "\n",
      "* Machine Learning and Python solutions: https://example.com/ml-python-portfolio\n",
      "* Magento e-commerce solutions: https://example.com/magento-portfolio\n",
      "* DevOps and full-stack JavaScript solutions: https://example.com/devops-portfolio and https://example.com/full-stack-js-portfolio\n",
      "\n",
      "These solutions have helped numerous enterprises like yours to streamline their operations, improve productivity, and gain a competitive edge. Our team of experts is dedicated to understanding your unique business needs and developing customized solutions that meet your specific requirements.\n",
      "\n",
      "I would love to schedule a call to discuss how NextSolution can help you achieve your business goals. Please let me know if you're interested, and we can schedule a time that suits you.\n",
      "\n",
      "Looking forward to hearing from you.\n",
      "\n",
      "Best regards,\n",
      "\n",
      "Ali\n",
      "Business Development Executive\n",
      "NextSolution Inc.\n"
     ]
    }
   ],
   "source": [
    "prompt_email = PromptTemplate.from_template(\n",
    "    \"\"\" \n",
    "    ### JOB DESCRIPTION\n",
    "    (job_description)\n",
    "\n",
    "    ###INSTRUCTION:\n",
    "    Your name is Ali, you are a buisness development executive at NextSolution inc. NextSolution is an AI & Software consultant\n",
    "    organization dedicated to provide seamless integrationof buisness process through automated tools.\n",
    "    Over our experience , we have empowered numerous enterprises with tailored solutions fostering scalibility,\n",
    "    procces optimization, cost reduction and heightened overall efficiency.\n",
    "    your job is to write a cold email to client regarding the job mentioned above describing the capability of mentioned \n",
    "    above in a fulfilling their needs\n",
    "    Also add the most relevant ones from the following links to showcase NextSolution's portfolio:{link_list}\n",
    "    Remember you are Ali, BDE at NextSolution.\n",
    "    Do not provide a preamble\n",
    "    ###EMAIL (NO PREAMBLE)\n",
    "    \"\"\"\n",
    ")\n",
    "\n",
    "chain_extract = prompt_email | llm\n",
    "res = chain_extract.invoke(input= {'job_description':str(job) , \"link_list\":links})\n",
    "print(res.content)"
   ]
  }
 ],
 "metadata": {
  "kernelspec": {
   "display_name": "Python llm_project",
   "language": "python",
   "name": "llm_project"
  },
  "language_info": {
   "codemirror_mode": {
    "name": "ipython",
    "version": 3
   },
   "file_extension": ".py",
   "mimetype": "text/x-python",
   "name": "python",
   "nbconvert_exporter": "python",
   "pygments_lexer": "ipython3",
   "version": "3.12.4"
  }
 },
 "nbformat": 4,
 "nbformat_minor": 5
}
